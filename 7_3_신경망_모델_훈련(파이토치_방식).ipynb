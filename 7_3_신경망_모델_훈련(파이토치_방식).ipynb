{
  "nbformat": 4,
  "nbformat_minor": 0,
  "metadata": {
    "colab": {
      "provenance": [],
      "authorship_tag": "ABX9TyMPzuDpqgvlRnAFJHvTL478",
      "include_colab_link": true
    },
    "kernelspec": {
      "name": "python3",
      "display_name": "Python 3"
    },
    "language_info": {
      "name": "python"
    }
  },
  "cells": [
    {
      "cell_type": "markdown",
      "metadata": {
        "id": "view-in-github",
        "colab_type": "text"
      },
      "source": [
        "<a href=\"https://colab.research.google.com/github/believehan/AI_Study_Notes/blob/main/7_3_%EC%8B%A0%EA%B2%BD%EB%A7%9D_%EB%AA%A8%EB%8D%B8_%ED%9B%88%EB%A0%A8(%ED%8C%8C%EC%9D%B4%ED%86%A0%EC%B9%98_%EB%B0%A9%EC%8B%9D).ipynb\" target=\"_parent\"><img src=\"https://colab.research.google.com/assets/colab-badge.svg\" alt=\"Open In Colab\"/></a>"
      ]
    },
    {
      "cell_type": "code",
      "execution_count": 1,
      "metadata": {
        "colab": {
          "base_uri": "https://localhost:8080/"
        },
        "id": "55A_rSm8-Wvz",
        "outputId": "c13db90f-4ec0-4a92-99a0-581352d11b0d"
      },
      "outputs": [
        {
          "output_type": "stream",
          "name": "stderr",
          "text": [
            "100%|██████████| 26.4M/26.4M [00:01<00:00, 17.0MB/s]\n",
            "100%|██████████| 29.5k/29.5k [00:00<00:00, 269kB/s]\n",
            "100%|██████████| 4.42M/4.42M [00:00<00:00, 5.05MB/s]\n",
            "100%|██████████| 5.15k/5.15k [00:00<00:00, 8.42MB/s]\n"
          ]
        }
      ],
      "source": [
        "from torchvision.datasets import FashionMNIST\n",
        "\n",
        "fm_train = FashionMNIST(root='./data', train=True, download=True)\n",
        "fm_test = FashionMNIST(root='./data', train=False, download=True)\n",
        "\n",
        "train_input = fm_train.data\n",
        "train_target = fm_train.targets\n",
        "train_scaled = train_input / 255.0\n",
        "\n",
        "from sklearn.model_selection import train_test_split\n",
        "\n",
        "train_scaled, val_scaled, train_target, val_target = train_test_split(train_scaled, train_target, test_size=0.2, random_state=42)"
      ]
    },
    {
      "cell_type": "code",
      "source": [],
      "metadata": {
        "id": "0m81WBkF--eX"
      },
      "execution_count": 31,
      "outputs": []
    },
    {
      "cell_type": "code",
      "source": [],
      "metadata": {
        "id": "2xVt1oDP--gy"
      },
      "execution_count": 32,
      "outputs": []
    },
    {
      "cell_type": "code",
      "source": [],
      "metadata": {
        "id": "3oTjY5YC--jQ"
      },
      "execution_count": 33,
      "outputs": []
    },
    {
      "cell_type": "code",
      "source": [
        "import torch.nn as nn\n",
        "\n",
        "model = nn.Sequential(\n",
        "    nn.Flatten(),\n",
        "    nn.Linear(784, 100),\n",
        "    nn.ReLU(),\n",
        "    nn.Dropout(0.3),\n",
        "    nn.Linear(100, 10)\n",
        ")"
      ],
      "metadata": {
        "id": "LBXNQSNx_oJj"
      },
      "execution_count": 2,
      "outputs": []
    },
    {
      "cell_type": "code",
      "source": [
        "import torch"
      ],
      "metadata": {
        "id": "1jdPic_Y_oL5"
      },
      "execution_count": 3,
      "outputs": []
    },
    {
      "cell_type": "code",
      "source": [
        "device = torch.device('cuda' if torch.cuda.is_available() else 'cpu')\n",
        "model.to(device)"
      ],
      "metadata": {
        "colab": {
          "base_uri": "https://localhost:8080/"
        },
        "id": "Gq5t_9fR_oOi",
        "outputId": "132ee8e2-c7ef-499d-d933-cbfc4cd78c66"
      },
      "execution_count": 4,
      "outputs": [
        {
          "output_type": "execute_result",
          "data": {
            "text/plain": [
              "Sequential(\n",
              "  (0): Flatten(start_dim=1, end_dim=-1)\n",
              "  (1): Linear(in_features=784, out_features=100, bias=True)\n",
              "  (2): ReLU()\n",
              "  (3): Dropout(p=0.3, inplace=False)\n",
              "  (4): Linear(in_features=100, out_features=10, bias=True)\n",
              ")"
            ]
          },
          "metadata": {},
          "execution_count": 4
        }
      ]
    },
    {
      "cell_type": "code",
      "source": [
        "import torch.optim as optim\n",
        "\n",
        "criterion = nn.CrossEntropyLoss()\n",
        "optimizer = optim.Adam(model.parameters())"
      ],
      "metadata": {
        "id": "jlwy6M1f_oW5"
      },
      "execution_count": 5,
      "outputs": []
    },
    {
      "cell_type": "code",
      "source": [
        "train_hist = []\n",
        "val_hist = []\n",
        "patience = 2\n",
        "best_loss = -1\n",
        "early_stopping_counter = 0"
      ],
      "metadata": {
        "id": "YAzpxBRf_oZP"
      },
      "execution_count": 6,
      "outputs": []
    },
    {
      "cell_type": "code",
      "source": [
        "epochs = 20\n",
        "batches = int(len(train_scaled) / 32)\n",
        "for epoch in range(epochs):\n",
        "    model.train()\n",
        "    train_loss = 0\n",
        "    for i in range(batches):\n",
        "        inputs = train_scaled[i*32:(i+1)*32].to(device)\n",
        "        targets = train_target[i*32:(i+1)*32].to(device)\n",
        "        optimizer.zero_grad()\n",
        "        outputs = model(inputs)\n",
        "        loss = criterion(outputs, targets)\n",
        "        loss.backward()\n",
        "        optimizer.step()\n",
        "        train_loss += loss.item()\n",
        "    model.eval()\n",
        "    val_loss = 0\n",
        "    with torch.no_grad():\n",
        "      val_scaled = val_scaled.to(device)\n",
        "      val_target = val_target.to(device)\n",
        "      outputs = model(val_scaled)\n",
        "      loss = criterion(outputs, val_target)\n",
        "      val_loss = loss.item()\n",
        "    train_hist.append(train_loss / batches)\n",
        "    val_hist.append(val_loss)\n",
        "    print(f\"에포크: {epoch+1}, 훈련 손실: {train_loss/batches:.4f}, 검증 손실: {val_loss:.4f}\")\n",
        "    if best_loss == -1 or val_loss < best_loss:\n",
        "      best_loss = val_loss\n",
        "      early_stopping_counter = 0\n",
        "      torch.save(model.state_dict(), 'best_model.pth')\n",
        "    else:\n",
        "      early_stopping_counter += 1\n",
        "      if early_stopping_counter >= patience:\n",
        "        print(f\"{epoch+1}번째 에포크에서 조기 종료 되었습니다.\")\n",
        "        break"
      ],
      "metadata": {
        "colab": {
          "base_uri": "https://localhost:8080/"
        },
        "id": "hpLbq-eY_ocf",
        "outputId": "f664d25e-9c55-4c16-f438-62680fa4918f"
      },
      "execution_count": 8,
      "outputs": [
        {
          "output_type": "stream",
          "name": "stdout",
          "text": [
            "에포크: 1, 훈련 손실: 0.4470, 검증 손실: 0.3971\n",
            "에포크: 2, 훈련 손실: 0.4096, 검증 손실: 0.3725\n",
            "에포크: 3, 훈련 손실: 0.3855, 검증 손실: 0.3570\n",
            "에포크: 4, 훈련 손실: 0.3707, 검증 손실: 0.3519\n",
            "에포크: 5, 훈련 손실: 0.3598, 검증 손실: 0.3475\n",
            "에포크: 6, 훈련 손실: 0.3477, 검증 손실: 0.3415\n",
            "에포크: 7, 훈련 손실: 0.3394, 검증 손실: 0.3400\n",
            "에포크: 8, 훈련 손실: 0.3345, 검증 손실: 0.3347\n",
            "에포크: 9, 훈련 손실: 0.3260, 검증 손실: 0.3333\n",
            "에포크: 10, 훈련 손실: 0.3199, 검증 손실: 0.3290\n",
            "에포크: 11, 훈련 손실: 0.3149, 검증 손실: 0.3316\n",
            "에포크: 12, 훈련 손실: 0.3084, 검증 손실: 0.3290\n",
            "에포크: 13, 훈련 손실: 0.3057, 검증 손실: 0.3277\n",
            "에포크: 14, 훈련 손실: 0.2994, 검증 손실: 0.3307\n",
            "에포크: 15, 훈련 손실: 0.2972, 검증 손실: 0.3348\n",
            "15번째 에포크에서 조기 종료 되었습니다.\n"
          ]
        }
      ]
    },
    {
      "cell_type": "code",
      "source": [
        "import matplotlib.pyplot as plt\n",
        "\n",
        "plt.plot(train_hist, label='train')\n",
        "plt.plot(val_hist, label='val')\n",
        "plt.xlabel('epoch')\n",
        "plt.ylabel('loss')\n",
        "plt.legend()"
      ],
      "metadata": {
        "colab": {
          "base_uri": "https://localhost:8080/",
          "height": 468
        },
        "id": "p2KKojrZCKbb",
        "outputId": "d5ad6fcc-0bf4-4e69-8d7b-d9d197e2589a"
      },
      "execution_count": 9,
      "outputs": [
        {
          "output_type": "execute_result",
          "data": {
            "text/plain": [
              "<matplotlib.legend.Legend at 0x782a602bb710>"
            ]
          },
          "metadata": {},
          "execution_count": 9
        },
        {
          "output_type": "display_data",
          "data": {
            "text/plain": [
              "<Figure size 640x480 with 1 Axes>"
            ],
            "image/png": "[encoded data removed]"
          },
          "metadata": {}
        }
      ]
    },
    {
      "cell_type": "code",
      "source": [
        "model.load_state_dict(torch.load('best_model.pth', weights_only=True))"
      ],
      "metadata": {
        "colab": {
          "base_uri": "https://localhost:8080/"
        },
        "id": "sJhrGvA7CKf0",
        "outputId": "10c32c64-946a-43fb-b4be-03695c045241"
      },
      "execution_count": 10,
      "outputs": [
        {
          "output_type": "execute_result",
          "data": {
            "text/plain": [
              "<All keys matched successfully>"
            ]
          },
          "metadata": {},
          "execution_count": 10
        }
      ]
    },
    {
      "cell_type": "code",
      "source": [
        "model.eval()\n",
        "with torch.no_grad():\n",
        "  val_scaled = val_scaled.to(device)\n",
        "  val_target = val_target.to(val_scaled)\n",
        "  outputs = model(val_scaled)\n",
        "  predicts = torch.argmax(outputs, 1)\n",
        "  correct = (predicts == val_target).sum().item()\n",
        "  accuracy = correct / len(val_target)\n",
        "  print(f\"검증 정확도: {accuracy:.4f}\")"
      ],
      "metadata": {
        "colab": {
          "base_uri": "https://localhost:8080/"
        },
        "id": "u-NG51k5CKiq",
        "outputId": "b1c30cc6-3a77-4aec-d141-b37ab16677f1"
      },
      "execution_count": 11,
      "outputs": [
        {
          "output_type": "stream",
          "name": "stdout",
          "text": [
            "검증 정확도: 0.8821\n"
          ]
        }
      ]
    }
  ]
}