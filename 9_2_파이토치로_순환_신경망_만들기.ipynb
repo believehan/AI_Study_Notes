{
  "nbformat": 4,
  "nbformat_minor": 0,
  "metadata": {
    "colab": {
      "provenance": [],
      "authorship_tag": "ABX9TyP9Rsw6eSY1cjPN2qP+Cx/S",
      "include_colab_link": true
    },
    "kernelspec": {
      "name": "python3",
      "display_name": "Python 3"
    },
    "language_info": {
      "name": "python"
    }
  },
  "cells": [
    {
      "cell_type": "markdown",
      "metadata": {
        "id": "view-in-github",
        "colab_type": "text"
      },
      "source": [
        "<a href=\"https://colab.research.google.com/github/believehan/AI_Study_Notes/blob/main/9_2_%ED%8C%8C%EC%9D%B4%ED%86%A0%EC%B9%98%EB%A1%9C_%EC%88%9C%ED%99%98_%EC%8B%A0%EA%B2%BD%EB%A7%9D_%EB%A7%8C%EB%93%A4%EA%B8%B0.ipynb\" target=\"_parent\"><img src=\"https://colab.research.google.com/assets/colab-badge.svg\" alt=\"Open In Colab\"/></a>"
      ]
    },
    {
      "cell_type": "code",
      "execution_count": 36,
      "metadata": {
        "id": "t19qdP6Q9OYi"
      },
      "outputs": [],
      "source": [
        "from keras.datasets import imdb\n",
        "from sklearn.model_selection import train_test_split\n",
        "\n",
        "(train_input, train_target), (test_input, test_target) = imdb.load_data(num_words=500)\n",
        "train_input, val_input, train_target, val_target = train_test_split(train_input, train_target, test_size=0.2, random_state=42)\n",
        "\n",
        "from keras.preprocessing.sequence import pad_sequences\n",
        "\n",
        "train_seq = pad_sequences(train_input, maxlen=100)\n",
        "val_seq = pad_sequences(val_input, maxlen=100)"
      ]
    },
    {
      "cell_type": "code",
      "source": [
        "print(train_seq.shape, train_target.shape)"
      ],
      "metadata": {
        "colab": {
          "base_uri": "https://localhost:8080/"
        },
        "id": "eLiwhTK_9X_W",
        "outputId": "c68f81f3-fa40-4794-afaf-a5ca8c229da6"
      },
      "execution_count": 37,
      "outputs": [
        {
          "output_type": "stream",
          "name": "stdout",
          "text": [
            "(20000, 100) (20000,)\n"
          ]
        }
      ]
    },
    {
      "cell_type": "code",
      "source": [
        "train_seq = torch.tensor(train_seq)\n",
        "val_seq = torch.tensor(val_seq)"
      ],
      "metadata": {
        "id": "YjgQGL_69YBj"
      },
      "execution_count": 38,
      "outputs": []
    },
    {
      "cell_type": "code",
      "source": [
        "print(train_target.dtype)"
      ],
      "metadata": {
        "colab": {
          "base_uri": "https://localhost:8080/"
        },
        "id": "S5EW6BDd9YED",
        "outputId": "d8cb2b67-12d5-4354-f5b6-5a98dd2a893c"
      },
      "execution_count": 39,
      "outputs": [
        {
          "output_type": "stream",
          "name": "stdout",
          "text": [
            "int64\n"
          ]
        }
      ]
    },
    {
      "cell_type": "code",
      "source": [
        "train_target = torch.tensor(train_target, dtype=torch.float32)\n",
        "val_target = torch.tensor(val_target, dtype=torch.float32)"
      ],
      "metadata": {
        "id": "K_MSrKYT9YGi"
      },
      "execution_count": 40,
      "outputs": []
    },
    {
      "cell_type": "code",
      "source": [
        "print(train_target.dtype)"
      ],
      "metadata": {
        "colab": {
          "base_uri": "https://localhost:8080/"
        },
        "id": "CQvkR5oG9YI0",
        "outputId": "4d92d846-7bf9-4016-a67e-11f88e7012d2"
      },
      "execution_count": 41,
      "outputs": [
        {
          "output_type": "stream",
          "name": "stdout",
          "text": [
            "torch.float32\n"
          ]
        }
      ]
    },
    {
      "cell_type": "code",
      "source": [
        "from torch.utils.data import TensorDataset, DataLoader\n",
        "\n",
        "train_dataset = TensorDataset(train_seq, train_target)\n",
        "val_dataset = TensorDataset(val_seq, val_target)\n",
        "\n",
        "train_loader = DataLoader(train_dataset, batch_size=64, shuffle=True)\n",
        "val_loader = DataLoader(val_dataset, batch_size=64, shuffle=False)"
      ],
      "metadata": {
        "id": "WJZFX3EN9YLO"
      },
      "execution_count": 42,
      "outputs": []
    },
    {
      "cell_type": "code",
      "source": [
        "import torch.nn as nn\n",
        "\n",
        "class IMDBRnn(nn.Module):\n",
        "    def __init__(self):\n",
        "        super().__init__()\n",
        "        self.embedding = nn.Embedding(500, 16)\n",
        "        self.rnn = nn.RNN(16, 8, batch_first=True)\n",
        "        self.dense = nn.Linear(8, 1)\n",
        "        self.sigmoid = nn.Sigmoid()\n",
        "\n",
        "    def forward(self, x):\n",
        "        x = self.embedding(x)\n",
        "        _, hidden = self.rnn(x)\n",
        "        outputs = self.dense(hidden[-1])\n",
        "        return self.sigmoid(outputs)"
      ],
      "metadata": {
        "id": "KCPl96pj9YOK"
      },
      "execution_count": 43,
      "outputs": []
    },
    {
      "cell_type": "code",
      "source": [
        "model = IMDBRnn()\n",
        "\n",
        "import torch\n",
        "\n",
        "device = torch.device('cuda' if torch.cuda.is_available() else 'cpu')\n",
        "model.to(device)"
      ],
      "metadata": {
        "colab": {
          "base_uri": "https://localhost:8080/"
        },
        "id": "qacLn9vo9YQq",
        "outputId": "3fe0f861-8320-422b-e7f4-873d84653209"
      },
      "execution_count": 44,
      "outputs": [
        {
          "output_type": "execute_result",
          "data": {
            "text/plain": [
              "IMDBRnn(\n",
              "  (embedding): Embedding(500, 16)\n",
              "  (rnn): RNN(16, 8, batch_first=True)\n",
              "  (dense): Linear(in_features=8, out_features=1, bias=True)\n",
              "  (sigmoid): Sigmoid()\n",
              ")"
            ]
          },
          "metadata": {},
          "execution_count": 44
        }
      ]
    },
    {
      "cell_type": "code",
      "source": [
        "import torch.optim as optim\n",
        "\n",
        "criterion = nn.BCELoss()\n",
        "optimizer = optim.Adam(model.parameters(), lr=2e-4)"
      ],
      "metadata": {
        "id": "Doa1dGrn9YTc"
      },
      "execution_count": 45,
      "outputs": []
    },
    {
      "cell_type": "code",
      "source": [
        "train_hist = []\n",
        "val_hist = []\n",
        "patience = 2\n",
        "best_loss = -1\n",
        "early_stopping_counter = 0\n",
        "\n",
        "epochs = 100\n",
        "for epoch in range(epochs):\n",
        "    model.train()\n",
        "    train_loss = 0\n",
        "    for inputs, targets in train_loader:\n",
        "        inputs, targets = inputs.to(device), targets.to(device)\n",
        "        optimizer.zero_grad()\n",
        "        outputs = model(inputs)\n",
        "        loss = criterion(outputs.squeeze(), targets)\n",
        "        loss.backward()\n",
        "        optimizer.step()\n",
        "        train_loss += loss.item()\n",
        "\n",
        "    model.eval()\n",
        "    val_loss = 0\n",
        "    with torch.no_grad():\n",
        "        for inputs, targets in val_loader:\n",
        "            inputs, targets = inputs.to(device), targets.to(device)\n",
        "            outputs = model(inputs)\n",
        "            loss = criterion(outputs.squeeze(), targets)\n",
        "            val_loss += loss.item()\n",
        "\n",
        "    train_loss = train_loss / len(train_loader)\n",
        "    val_loss = val_loss / len(val_loader)\n",
        "    train_hist.append(train_loss)\n",
        "    val_hist.append(val_loss)\n",
        "    print(f\"에포크:{epoch+1},훈련 손실:{train_loss:.4f}, 검증 손실{val_loss:.4f}\")\n",
        "\n",
        "    if best_loss == -1 or val_loss < best_loss:\n",
        "        best_loss = val_loss\n",
        "        early_stopping_counter = 0\n",
        "        torch.save(model.state_dict(), 'best_rnn_model.pt')\n",
        "    else:\n",
        "        early_stopping_counter += 1\n",
        "        if early_stopping_counter >= patience:\n",
        "            print(f\"{epoch+1}번째 에포크에서 조기 종료됨\")\n",
        "            break"
      ],
      "metadata": {
        "colab": {
          "base_uri": "https://localhost:8080/"
        },
        "id": "FfGS5S0l9YWE",
        "outputId": "3ce3460f-4611-4b43-bf3a-50f158157a99"
      },
      "execution_count": 47,
      "outputs": [
        {
          "output_type": "stream",
          "name": "stdout",
          "text": [
            "에포크:1,훈련 손실:0.6911, 검증 손실0.6906\n",
            "에포크:2,훈련 손실:0.6891, 검증 손실0.6886\n",
            "에포크:3,훈련 손실:0.6874, 검증 손실0.6869\n",
            "에포크:4,훈련 손실:0.6853, 검증 손실0.6852\n",
            "에포크:5,훈련 손실:0.6827, 검증 손실0.6821\n",
            "에포크:6,훈련 손실:0.6787, 검증 손실0.6777\n",
            "에포크:7,훈련 손실:0.6729, 검증 손실0.6714\n",
            "에포크:8,훈련 손실:0.6657, 검증 손실0.6661\n",
            "에포크:9,훈련 손실:0.6575, 검증 손실0.6595\n",
            "에포크:10,훈련 손실:0.6497, 검증 손실0.6507\n",
            "에포크:11,훈련 손실:0.6434, 검증 손실0.6450\n",
            "에포크:12,훈련 손실:0.6367, 검증 손실0.6416\n",
            "에포크:13,훈련 손실:0.6317, 검증 손실0.6386\n",
            "에포크:14,훈련 손실:0.6278, 검증 손실0.6423\n",
            "에포크:15,훈련 손실:0.6225, 검증 손실0.6309\n",
            "에포크:16,훈련 손실:0.6184, 검증 손실0.6279\n",
            "에포크:17,훈련 손실:0.6138, 검증 손실0.6268\n",
            "에포크:18,훈련 손실:0.6098, 검증 손실0.6217\n",
            "에포크:19,훈련 손실:0.6089, 검증 손실0.6210\n",
            "에포크:20,훈련 손실:0.6035, 검증 손실0.6163\n",
            "에포크:21,훈련 손실:0.6011, 검증 손실0.6148\n",
            "에포크:22,훈련 손실:0.6063, 검증 손실0.6358\n",
            "에포크:23,훈련 손실:0.6048, 검증 손실0.6146\n",
            "에포크:24,훈련 손실:0.5950, 검증 손실0.6099\n",
            "에포크:25,훈련 손실:0.5922, 검증 손실0.6070\n",
            "에포크:26,훈련 손실:0.5878, 검증 손실0.6040\n",
            "에포크:27,훈련 손실:0.5835, 검증 손실0.6047\n",
            "에포크:28,훈련 손실:0.5808, 검증 손실0.6022\n",
            "에포크:29,훈련 손실:0.5780, 검증 손실0.5990\n",
            "에포크:30,훈련 손실:0.5763, 검증 손실0.5980\n",
            "에포크:31,훈련 손실:0.5774, 검증 손실0.5967\n",
            "에포크:32,훈련 손실:0.5731, 검증 손실0.6035\n",
            "에포크:33,훈련 손실:0.5726, 검증 손실0.5961\n",
            "에포크:34,훈련 손실:0.5720, 검증 손실0.5929\n",
            "에포크:35,훈련 손실:0.5675, 검증 손실0.5914\n",
            "에포크:36,훈련 손실:0.5642, 검증 손실0.5904\n",
            "에포크:37,훈련 손실:0.5677, 검증 손실0.5885\n",
            "에포크:38,훈련 손실:0.5603, 검증 손실0.5891\n",
            "에포크:39,훈련 손실:0.5607, 검증 손실0.5874\n",
            "에포크:40,훈련 손실:0.5577, 검증 손실0.5855\n",
            "에포크:41,훈련 손실:0.5576, 검증 손실0.5871\n",
            "에포크:42,훈련 손실:0.5550, 검증 손실0.5884\n",
            "42번째 에포크에서 조기 종료됨\n"
          ]
        }
      ]
    },
    {
      "cell_type": "code",
      "source": [
        "import matplotlib.pyplot as plt\n",
        "\n",
        "plt.plot(train_hist, label='train')\n",
        "plt.plot(val_hist, label='val')\n",
        "plt.xlabel('epoch')\n",
        "plt.ylabel('loss')\n",
        "plt.legend()\n",
        "plt.show()"
      ],
      "metadata": {
        "colab": {
          "base_uri": "https://localhost:8080/",
          "height": 449
        },
        "id": "-wqVJvYu9YY4",
        "outputId": "8eeb16eb-b1de-457e-ceb1-507a6cd4529a"
      },
      "execution_count": 48,
      "outputs": [
        {
          "output_type": "display_data",
          "data": {
            "text/plain": [
              "<Figure size 640x480 with 1 Axes>"
            ],
            "image/png": "[encoded data removed]"
          },
          "metadata": {}
        }
      ]
    },
    {
      "cell_type": "code",
      "source": [
        "model.load_state_dict(torch.load('best_rnn_model.pt', weights_only=True))\n",
        "\n",
        "model.eval()\n",
        "corrects = 0\n",
        "with torch.no_grad():\n",
        "    for inputs, targets in val_loader:\n",
        "        inputs, targets = inputs.to(device), targets.to(device)\n",
        "        outputs = model(inputs)\n",
        "        predicts = outputs > 0.5\n",
        "        corrects += (predicts.squeeze() == targets).sum().item()\n",
        "\n",
        "accuracy = corrects / len(val_dataset)\n",
        "print(f\"검증 정확도:{accuracy:.4f}\")"
      ],
      "metadata": {
        "colab": {
          "base_uri": "https://localhost:8080/"
        },
        "id": "hHHQ4iKG9Ybm",
        "outputId": "cd0101a6-05d2-472d-9a71-8be06bf68f5b"
      },
      "execution_count": 49,
      "outputs": [
        {
          "output_type": "stream",
          "name": "stdout",
          "text": [
            "검증 정확도:0.7026\n"
          ]
        }
      ]
    }
  ]
}